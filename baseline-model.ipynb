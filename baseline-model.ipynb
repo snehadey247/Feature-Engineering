{
 "cells": [
  {
   "cell_type": "code",
   "execution_count": 1,
   "metadata": {
    "_kg_hide-input": true,
    "execution": {
     "iopub.execute_input": "2020-10-01T00:24:54.383202Z",
     "iopub.status.busy": "2020-10-01T00:24:54.382615Z",
     "iopub.status.idle": "2020-10-01T00:24:55.878100Z",
     "shell.execute_reply": "2020-10-01T00:24:55.878599Z"
    },
    "papermill": {
     "duration": 1.509361,
     "end_time": "2020-10-01T00:24:55.878761",
     "exception": false,
     "start_time": "2020-10-01T00:24:54.369400",
     "status": "completed"
    },
    "tags": []
   },
   "outputs": [
    {
     "data": {
      "text/html": [
       "<div>\n",
       "<style scoped>\n",
       "    .dataframe tbody tr th:only-of-type {\n",
       "        vertical-align: middle;\n",
       "    }\n",
       "\n",
       "    .dataframe tbody tr th {\n",
       "        vertical-align: top;\n",
       "    }\n",
       "\n",
       "    .dataframe thead th {\n",
       "        text-align: right;\n",
       "    }\n",
       "</style>\n",
       "<table border=\"1\" class=\"dataframe\">\n",
       "  <thead>\n",
       "    <tr style=\"text-align: right;\">\n",
       "      <th></th>\n",
       "      <th>ID</th>\n",
       "      <th>name</th>\n",
       "      <th>category</th>\n",
       "      <th>main_category</th>\n",
       "      <th>currency</th>\n",
       "      <th>deadline</th>\n",
       "      <th>goal</th>\n",
       "      <th>launched</th>\n",
       "      <th>pledged</th>\n",
       "      <th>state</th>\n",
       "      <th>backers</th>\n",
       "      <th>country</th>\n",
       "      <th>usd pledged</th>\n",
       "      <th>usd_pledged_real</th>\n",
       "      <th>usd_goal_real</th>\n",
       "    </tr>\n",
       "  </thead>\n",
       "  <tbody>\n",
       "    <tr>\n",
       "      <th>0</th>\n",
       "      <td>1000002330</td>\n",
       "      <td>The Songs of Adelaide &amp; Abullah</td>\n",
       "      <td>Poetry</td>\n",
       "      <td>Publishing</td>\n",
       "      <td>GBP</td>\n",
       "      <td>2015-10-09</td>\n",
       "      <td>1000.0</td>\n",
       "      <td>2015-08-11 12:12:28</td>\n",
       "      <td>0.0</td>\n",
       "      <td>failed</td>\n",
       "      <td>0</td>\n",
       "      <td>GB</td>\n",
       "      <td>0.0</td>\n",
       "      <td>0.0</td>\n",
       "      <td>1533.95</td>\n",
       "    </tr>\n",
       "    <tr>\n",
       "      <th>1</th>\n",
       "      <td>1000003930</td>\n",
       "      <td>Greeting From Earth: ZGAC Arts Capsule For ET</td>\n",
       "      <td>Narrative Film</td>\n",
       "      <td>Film &amp; Video</td>\n",
       "      <td>USD</td>\n",
       "      <td>2017-11-01</td>\n",
       "      <td>30000.0</td>\n",
       "      <td>2017-09-02 04:43:57</td>\n",
       "      <td>2421.0</td>\n",
       "      <td>failed</td>\n",
       "      <td>15</td>\n",
       "      <td>US</td>\n",
       "      <td>100.0</td>\n",
       "      <td>2421.0</td>\n",
       "      <td>30000.00</td>\n",
       "    </tr>\n",
       "    <tr>\n",
       "      <th>2</th>\n",
       "      <td>1000004038</td>\n",
       "      <td>Where is Hank?</td>\n",
       "      <td>Narrative Film</td>\n",
       "      <td>Film &amp; Video</td>\n",
       "      <td>USD</td>\n",
       "      <td>2013-02-26</td>\n",
       "      <td>45000.0</td>\n",
       "      <td>2013-01-12 00:20:50</td>\n",
       "      <td>220.0</td>\n",
       "      <td>failed</td>\n",
       "      <td>3</td>\n",
       "      <td>US</td>\n",
       "      <td>220.0</td>\n",
       "      <td>220.0</td>\n",
       "      <td>45000.00</td>\n",
       "    </tr>\n",
       "    <tr>\n",
       "      <th>3</th>\n",
       "      <td>1000007540</td>\n",
       "      <td>ToshiCapital Rekordz Needs Help to Complete Album</td>\n",
       "      <td>Music</td>\n",
       "      <td>Music</td>\n",
       "      <td>USD</td>\n",
       "      <td>2012-04-16</td>\n",
       "      <td>5000.0</td>\n",
       "      <td>2012-03-17 03:24:11</td>\n",
       "      <td>1.0</td>\n",
       "      <td>failed</td>\n",
       "      <td>1</td>\n",
       "      <td>US</td>\n",
       "      <td>1.0</td>\n",
       "      <td>1.0</td>\n",
       "      <td>5000.00</td>\n",
       "    </tr>\n",
       "    <tr>\n",
       "      <th>4</th>\n",
       "      <td>1000011046</td>\n",
       "      <td>Community Film Project: The Art of Neighborhoo...</td>\n",
       "      <td>Film &amp; Video</td>\n",
       "      <td>Film &amp; Video</td>\n",
       "      <td>USD</td>\n",
       "      <td>2015-08-29</td>\n",
       "      <td>19500.0</td>\n",
       "      <td>2015-07-04 08:35:03</td>\n",
       "      <td>1283.0</td>\n",
       "      <td>canceled</td>\n",
       "      <td>14</td>\n",
       "      <td>US</td>\n",
       "      <td>1283.0</td>\n",
       "      <td>1283.0</td>\n",
       "      <td>19500.00</td>\n",
       "    </tr>\n",
       "    <tr>\n",
       "      <th>5</th>\n",
       "      <td>1000014025</td>\n",
       "      <td>Monarch Espresso Bar</td>\n",
       "      <td>Restaurants</td>\n",
       "      <td>Food</td>\n",
       "      <td>USD</td>\n",
       "      <td>2016-04-01</td>\n",
       "      <td>50000.0</td>\n",
       "      <td>2016-02-26 13:38:27</td>\n",
       "      <td>52375.0</td>\n",
       "      <td>successful</td>\n",
       "      <td>224</td>\n",
       "      <td>US</td>\n",
       "      <td>52375.0</td>\n",
       "      <td>52375.0</td>\n",
       "      <td>50000.00</td>\n",
       "    </tr>\n",
       "  </tbody>\n",
       "</table>\n",
       "</div>"
      ],
      "text/plain": [
       "           ID                                               name  \\\n",
       "0  1000002330                    The Songs of Adelaide & Abullah   \n",
       "1  1000003930      Greeting From Earth: ZGAC Arts Capsule For ET   \n",
       "2  1000004038                                     Where is Hank?   \n",
       "3  1000007540  ToshiCapital Rekordz Needs Help to Complete Album   \n",
       "4  1000011046  Community Film Project: The Art of Neighborhoo...   \n",
       "5  1000014025                               Monarch Espresso Bar   \n",
       "\n",
       "         category main_category currency   deadline     goal  \\\n",
       "0          Poetry    Publishing      GBP 2015-10-09   1000.0   \n",
       "1  Narrative Film  Film & Video      USD 2017-11-01  30000.0   \n",
       "2  Narrative Film  Film & Video      USD 2013-02-26  45000.0   \n",
       "3           Music         Music      USD 2012-04-16   5000.0   \n",
       "4    Film & Video  Film & Video      USD 2015-08-29  19500.0   \n",
       "5     Restaurants          Food      USD 2016-04-01  50000.0   \n",
       "\n",
       "             launched  pledged       state  backers country  usd pledged  \\\n",
       "0 2015-08-11 12:12:28      0.0      failed        0      GB          0.0   \n",
       "1 2017-09-02 04:43:57   2421.0      failed       15      US        100.0   \n",
       "2 2013-01-12 00:20:50    220.0      failed        3      US        220.0   \n",
       "3 2012-03-17 03:24:11      1.0      failed        1      US          1.0   \n",
       "4 2015-07-04 08:35:03   1283.0    canceled       14      US       1283.0   \n",
       "5 2016-02-26 13:38:27  52375.0  successful      224      US      52375.0   \n",
       "\n",
       "   usd_pledged_real  usd_goal_real  \n",
       "0               0.0        1533.95  \n",
       "1            2421.0       30000.00  \n",
       "2             220.0       45000.00  \n",
       "3               1.0        5000.00  \n",
       "4            1283.0       19500.00  \n",
       "5           52375.0       50000.00  "
      ]
     },
     "execution_count": 1,
     "metadata": {},
     "output_type": "execute_result"
    }
   ],
   "source": [
    "import pandas as pd\n",
    "ks = pd.read_csv('../input/kickstarter-projects/ks-projects-201801.csv',\n",
    "                 parse_dates=['deadline', 'launched'])\n",
    "ks.head(6)"
   ]
  },
  {
   "cell_type": "markdown",
   "metadata": {
    "papermill": {
     "duration": 0.012191,
     "end_time": "2020-10-01T00:24:55.902822",
     "exception": false,
     "start_time": "2020-10-01T00:24:55.890631",
     "status": "completed"
    },
    "tags": []
   },
   "source": [
    "The `state` column shows the outcome of the project."
   ]
  },
  {
   "cell_type": "code",
   "execution_count": 2,
   "metadata": {
    "execution": {
     "iopub.execute_input": "2020-10-01T00:24:55.951037Z",
     "iopub.status.busy": "2020-10-01T00:24:55.950293Z",
     "iopub.status.idle": "2020-10-01T00:24:55.962056Z",
     "shell.execute_reply": "2020-10-01T00:24:55.962531Z"
    },
    "papermill": {
     "duration": 0.048927,
     "end_time": "2020-10-01T00:24:55.962682",
     "exception": false,
     "start_time": "2020-10-01T00:24:55.913755",
     "status": "completed"
    },
    "tags": []
   },
   "outputs": [
    {
     "name": "stdout",
     "output_type": "stream",
     "text": [
      "Unique values in `state` column: ['failed', 'canceled', 'successful', 'live', 'undefined', 'suspended']\n"
     ]
    }
   ],
   "source": [
    "print('Unique values in `state` column:', list(ks.state.unique()))"
   ]
  },
  {
   "cell_type": "markdown",
   "metadata": {
    "papermill": {
     "duration": 0.011176,
     "end_time": "2020-10-01T00:24:56.007841",
     "exception": false,
     "start_time": "2020-10-01T00:24:55.996665",
     "status": "completed"
    },
    "tags": []
   },
   "source": [
    "### Prepare the target column\n",
    "\n",
    "First we'll convert the `state` column into a target we can use in a model.  Data cleaning isn't the current focus, so we'll simplify this example by:\n",
    "\n",
    "- Dropping projects that are \"live\"\n",
    "- Counting \"successful\" states as `outcome = 1`\n",
    "- Combining every other state as `outcome = 0`"
   ]
  },
  {
   "cell_type": "code",
   "execution_count": 3,
   "metadata": {
    "execution": {
     "iopub.execute_input": "2020-10-01T00:24:56.036094Z",
     "iopub.status.busy": "2020-10-01T00:24:56.035389Z",
     "iopub.status.idle": "2020-10-01T00:24:56.206514Z",
     "shell.execute_reply": "2020-10-01T00:24:56.205978Z"
    },
    "papermill": {
     "duration": 0.187461,
     "end_time": "2020-10-01T00:24:56.206633",
     "exception": false,
     "start_time": "2020-10-01T00:24:56.019172",
     "status": "completed"
    },
    "tags": []
   },
   "outputs": [],
   "source": [
    "# Drop live projects\n",
    "ks = ks.query('state != \"live\"')\n",
    "\n",
    "# Add outcome column, \"successful\" == 1, others are 0\n",
    "ks = ks.assign(outcome=(ks['state'] == 'successful').astype(int))"
   ]
  },
  {
   "cell_type": "markdown",
   "metadata": {
    "papermill": {
     "duration": 0.011122,
     "end_time": "2020-10-01T00:24:56.229207",
     "exception": false,
     "start_time": "2020-10-01T00:24:56.218085",
     "status": "completed"
    },
    "tags": []
   },
   "source": [
    "### Convert timestamps\n",
    "\n",
    "Next, we convert the `launched` feature into categorical features we can use in a model. Since we loaded the columns as timestamp data, we access date and time values through the `.dt` attribute on the timestamp column.\n",
    "\n"
   ]
  },
  {
   "cell_type": "code",
   "execution_count": 4,
   "metadata": {
    "execution": {
     "iopub.execute_input": "2020-10-01T00:24:56.257146Z",
     "iopub.status.busy": "2020-10-01T00:24:56.256476Z",
     "iopub.status.idle": "2020-10-01T00:24:56.489985Z",
     "shell.execute_reply": "2020-10-01T00:24:56.489280Z"
    },
    "papermill": {
     "duration": 0.249722,
     "end_time": "2020-10-01T00:24:56.490099",
     "exception": false,
     "start_time": "2020-10-01T00:24:56.240377",
     "status": "completed"
    },
    "tags": []
   },
   "outputs": [],
   "source": [
    "ks = ks.assign(hour=ks.launched.dt.hour,\n",
    "               day=ks.launched.dt.day,\n",
    "               month=ks.launched.dt.month,\n",
    "               year=ks.launched.dt.year)"
   ]
  },
  {
   "cell_type": "markdown",
   "metadata": {
    "papermill": {
     "duration": 0.011061,
     "end_time": "2020-10-01T00:24:56.512839",
     "exception": false,
     "start_time": "2020-10-01T00:24:56.501778",
     "status": "completed"
    },
    "tags": []
   },
   "source": [
    "### Prep categorical variables\n",
    "\n",
    "Now for the categorical variables -- `category`, `currency`, and `country` -- we'll need to convert them into integers so our model can use the data. For this we'll use scikit-learn's `LabelEncoder`. This assigns an integer to each value of the categorical feature."
   ]
  },
  {
   "cell_type": "code",
   "execution_count": 5,
   "metadata": {
    "execution": {
     "iopub.execute_input": "2020-10-01T00:24:56.541041Z",
     "iopub.status.busy": "2020-10-01T00:24:56.540357Z",
     "iopub.status.idle": "2020-10-01T00:24:57.632630Z",
     "shell.execute_reply": "2020-10-01T00:24:57.631991Z"
    },
    "papermill": {
     "duration": 1.108543,
     "end_time": "2020-10-01T00:24:57.632748",
     "exception": false,
     "start_time": "2020-10-01T00:24:56.524205",
     "status": "completed"
    },
    "tags": []
   },
   "outputs": [],
   "source": [
    "from sklearn.preprocessing import LabelEncoder\n",
    "\n",
    "cat_features = ['category', 'currency', 'country']\n",
    "encoder = LabelEncoder()\n",
    "\n",
    "# Apply the label encoder to each column\n",
    "encoded = ks[cat_features].apply(encoder.fit_transform)"
   ]
  },
  {
   "cell_type": "markdown",
   "metadata": {
    "papermill": {
     "duration": 0.011006,
     "end_time": "2020-10-01T00:24:57.655311",
     "exception": false,
     "start_time": "2020-10-01T00:24:57.644305",
     "status": "completed"
    },
    "tags": []
   },
   "source": [
    "We collect all of these features in a new dataframe that we can use to train a model."
   ]
  },
  {
   "cell_type": "code",
   "execution_count": 6,
   "metadata": {
    "execution": {
     "iopub.execute_input": "2020-10-01T00:24:57.689416Z",
     "iopub.status.busy": "2020-10-01T00:24:57.688823Z",
     "iopub.status.idle": "2020-10-01T00:24:57.728355Z",
     "shell.execute_reply": "2020-10-01T00:24:57.727752Z"
    },
    "papermill": {
     "duration": 0.061964,
     "end_time": "2020-10-01T00:24:57.728474",
     "exception": false,
     "start_time": "2020-10-01T00:24:57.666510",
     "status": "completed"
    },
    "tags": []
   },
   "outputs": [
    {
     "data": {
      "text/html": [
       "<div>\n",
       "<style scoped>\n",
       "    .dataframe tbody tr th:only-of-type {\n",
       "        vertical-align: middle;\n",
       "    }\n",
       "\n",
       "    .dataframe tbody tr th {\n",
       "        vertical-align: top;\n",
       "    }\n",
       "\n",
       "    .dataframe thead th {\n",
       "        text-align: right;\n",
       "    }\n",
       "</style>\n",
       "<table border=\"1\" class=\"dataframe\">\n",
       "  <thead>\n",
       "    <tr style=\"text-align: right;\">\n",
       "      <th></th>\n",
       "      <th>goal</th>\n",
       "      <th>hour</th>\n",
       "      <th>day</th>\n",
       "      <th>month</th>\n",
       "      <th>year</th>\n",
       "      <th>outcome</th>\n",
       "      <th>category</th>\n",
       "      <th>currency</th>\n",
       "      <th>country</th>\n",
       "    </tr>\n",
       "  </thead>\n",
       "  <tbody>\n",
       "    <tr>\n",
       "      <th>0</th>\n",
       "      <td>1000.0</td>\n",
       "      <td>12</td>\n",
       "      <td>11</td>\n",
       "      <td>8</td>\n",
       "      <td>2015</td>\n",
       "      <td>0</td>\n",
       "      <td>108</td>\n",
       "      <td>5</td>\n",
       "      <td>9</td>\n",
       "    </tr>\n",
       "    <tr>\n",
       "      <th>1</th>\n",
       "      <td>30000.0</td>\n",
       "      <td>4</td>\n",
       "      <td>2</td>\n",
       "      <td>9</td>\n",
       "      <td>2017</td>\n",
       "      <td>0</td>\n",
       "      <td>93</td>\n",
       "      <td>13</td>\n",
       "      <td>22</td>\n",
       "    </tr>\n",
       "    <tr>\n",
       "      <th>2</th>\n",
       "      <td>45000.0</td>\n",
       "      <td>0</td>\n",
       "      <td>12</td>\n",
       "      <td>1</td>\n",
       "      <td>2013</td>\n",
       "      <td>0</td>\n",
       "      <td>93</td>\n",
       "      <td>13</td>\n",
       "      <td>22</td>\n",
       "    </tr>\n",
       "    <tr>\n",
       "      <th>3</th>\n",
       "      <td>5000.0</td>\n",
       "      <td>3</td>\n",
       "      <td>17</td>\n",
       "      <td>3</td>\n",
       "      <td>2012</td>\n",
       "      <td>0</td>\n",
       "      <td>90</td>\n",
       "      <td>13</td>\n",
       "      <td>22</td>\n",
       "    </tr>\n",
       "    <tr>\n",
       "      <th>4</th>\n",
       "      <td>19500.0</td>\n",
       "      <td>8</td>\n",
       "      <td>4</td>\n",
       "      <td>7</td>\n",
       "      <td>2015</td>\n",
       "      <td>0</td>\n",
       "      <td>55</td>\n",
       "      <td>13</td>\n",
       "      <td>22</td>\n",
       "    </tr>\n",
       "  </tbody>\n",
       "</table>\n",
       "</div>"
      ],
      "text/plain": [
       "      goal  hour  day  month  year  outcome  category  currency  country\n",
       "0   1000.0    12   11      8  2015        0       108         5        9\n",
       "1  30000.0     4    2      9  2017        0        93        13       22\n",
       "2  45000.0     0   12      1  2013        0        93        13       22\n",
       "3   5000.0     3   17      3  2012        0        90        13       22\n",
       "4  19500.0     8    4      7  2015        0        55        13       22"
      ]
     },
     "execution_count": 6,
     "metadata": {},
     "output_type": "execute_result"
    }
   ],
   "source": [
    "# Since ks and encoded have the same index and I can easily join them\n",
    "data = ks[['goal', 'hour', 'day', 'month', 'year', 'outcome']].join(encoded)\n",
    "data.head()"
   ]
  },
  {
   "cell_type": "markdown",
   "metadata": {
    "papermill": {
     "duration": 0.011581,
     "end_time": "2020-10-01T00:24:57.752151",
     "exception": false,
     "start_time": "2020-10-01T00:24:57.740570",
     "status": "completed"
    },
    "tags": []
   },
   "source": [
    "### Create training, validation, and test splits\n",
    "\n",
    "We need to create data sets for training, validation, and testing. We'll use a fairly simple approach and split the data using slices. We'll use 10% of the data as a validation set, 10% for testing, and the other 80% for training."
   ]
  },
  {
   "cell_type": "code",
   "execution_count": 7,
   "metadata": {
    "execution": {
     "iopub.execute_input": "2020-10-01T00:24:57.782212Z",
     "iopub.status.busy": "2020-10-01T00:24:57.781580Z",
     "iopub.status.idle": "2020-10-01T00:24:57.784440Z",
     "shell.execute_reply": "2020-10-01T00:24:57.783822Z"
    },
    "papermill": {
     "duration": 0.02062,
     "end_time": "2020-10-01T00:24:57.784571",
     "exception": false,
     "start_time": "2020-10-01T00:24:57.763951",
     "status": "completed"
    },
    "tags": []
   },
   "outputs": [],
   "source": [
    "valid_fraction = 0.1\n",
    "valid_size = int(len(data) * valid_fraction)\n",
    "\n",
    "train = data[:-2 * valid_size]\n",
    "valid = data[-2 * valid_size:-valid_size]\n",
    "test = data[-valid_size:]"
   ]
  },
  {
   "cell_type": "markdown",
   "metadata": {
    "papermill": {
     "duration": 0.011691,
     "end_time": "2020-10-01T00:24:57.808324",
     "exception": false,
     "start_time": "2020-10-01T00:24:57.796633",
     "status": "completed"
    },
    "tags": []
   },
   "source": [
    "### Train a model\n",
    "\n",
    "For this course we'll be using a LightGBM model. This is a tree-based model that typically provides the best performance, even compared to XGBoost. It's also relatively fast to train. \n",
    "\n",
    "We won't do hyperparameter optimization because that isn't the goal of this course. So, our models won't be the absolute best performance you can get. But you'll still see model performance improve as we do feature engineering."
   ]
  },
  {
   "cell_type": "code",
   "execution_count": 8,
   "metadata": {
    "execution": {
     "iopub.execute_input": "2020-10-01T00:24:57.840412Z",
     "iopub.status.busy": "2020-10-01T00:24:57.839806Z",
     "iopub.status.idle": "2020-10-01T00:25:01.597040Z",
     "shell.execute_reply": "2020-10-01T00:25:01.597727Z"
    },
    "papermill": {
     "duration": 3.777573,
     "end_time": "2020-10-01T00:25:01.597910",
     "exception": false,
     "start_time": "2020-10-01T00:24:57.820337",
     "status": "completed"
    },
    "tags": []
   },
   "outputs": [],
   "source": [
    "import lightgbm as lgb\n",
    "\n",
    "feature_cols = train.columns.drop('outcome')\n",
    "\n",
    "dtrain = lgb.Dataset(train[feature_cols], label=train['outcome'])\n",
    "dvalid = lgb.Dataset(valid[feature_cols], label=valid['outcome'])\n",
    "\n",
    "param = {'num_leaves': 64, 'objective': 'binary'}\n",
    "param['metric'] = 'auc'\n",
    "num_round = 1000\n",
    "bst = lgb.train(param, dtrain, num_round, valid_sets=[dvalid], early_stopping_rounds=10, verbose_eval=False)"
   ]
  },
  {
   "cell_type": "markdown",
   "metadata": {
    "papermill": {
     "duration": 0.015155,
     "end_time": "2020-10-01T00:25:01.629811",
     "exception": false,
     "start_time": "2020-10-01T00:25:01.614656",
     "status": "completed"
    },
    "tags": []
   },
   "source": [
    "### Make predictions & evaluate the model\n",
    "\n",
    "Finally, let's make predictions on the test set with the model and see how well it performs. An important thing to remember is that you can overfit to the validation data. This is why we need a test set that the model never sees until the final evaluation."
   ]
  },
  {
   "cell_type": "code",
   "execution_count": 9,
   "metadata": {
    "execution": {
     "iopub.execute_input": "2020-10-01T00:25:01.679611Z",
     "iopub.status.busy": "2020-10-01T00:25:01.678721Z",
     "iopub.status.idle": "2020-10-01T00:25:01.840134Z",
     "shell.execute_reply": "2020-10-01T00:25:01.841072Z"
    },
    "papermill": {
     "duration": 0.195815,
     "end_time": "2020-10-01T00:25:01.841240",
     "exception": false,
     "start_time": "2020-10-01T00:25:01.645425",
     "status": "completed"
    },
    "tags": []
   },
   "outputs": [
    {
     "name": "stdout",
     "output_type": "stream",
     "text": [
      "Test AUC score: 0.747615303004287\n"
     ]
    }
   ],
   "source": [
    "from sklearn import metrics\n",
    "ypred = bst.predict(test[feature_cols])\n",
    "score = metrics.roc_auc_score(test['outcome'], ypred)\n",
    "\n",
    "print(f\"Test AUC score: {score}\")"
   ]
  }
 ],
 "metadata": {
  "kernelspec": {
   "display_name": "Python 3",
   "language": "python",
   "name": "python3"
  },
  "language_info": {
   "codemirror_mode": {
    "name": "ipython",
    "version": 3
   },
   "file_extension": ".py",
   "mimetype": "text/x-python",
   "name": "python",
   "nbconvert_exporter": "python",
   "pygments_lexer": "ipython3",
   "version": "3.7.6"
  },
  "papermill": {
   "duration": 12.120125,
   "end_time": "2020-10-01T00:25:02.028087",
   "environment_variables": {},
   "exception": null,
   "input_path": "__notebook__.ipynb",
   "output_path": "__notebook__.ipynb",
   "parameters": {},
   "start_time": "2020-10-01T00:24:49.907962",
   "version": "2.1.0"
  }
 },
 "nbformat": 4,
 "nbformat_minor": 2
}
